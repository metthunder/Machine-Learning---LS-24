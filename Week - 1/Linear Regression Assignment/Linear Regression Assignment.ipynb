{
 "cells": [
  {
   "cell_type": "code",
   "execution_count": 28,
   "id": "0c740f99-101a-4588-9d78-48a0c607711a",
   "metadata": {},
   "outputs": [],
   "source": [
    "import numpy as np\n",
    "import pandas as pd\n",
    "import matplotlib.pyplot as plt\n",
    "from sklearn.preprocessing import LabelEncoder\n",
    "\n",
    "# Aim is to predict the marks of students of the test data"
   ]
  },
  {
   "cell_type": "code",
   "execution_count": 29,
   "id": "116854bd-1f92-4442-8995-7137af663a30",
   "metadata": {},
   "outputs": [
    {
     "data": {
      "text/plain": [
       "array([['no', 'M', 2, ..., 6, 18, 118],\n",
       "       ['yes', 'M', 2, ..., 7, 19, 107],\n",
       "       ['yes', 'M', 3, ..., 5, 18, 108],\n",
       "       ...,\n",
       "       ['yes', 'M', 2, ..., 5, 17, 123],\n",
       "       ['yes', 'F', 1, ..., 8, 17, 104],\n",
       "       ['yes', 'M', 1, ..., 6, 18, 128]], dtype=object)"
      ]
     },
     "execution_count": 29,
     "metadata": {},
     "output_type": "execute_result"
    }
   ],
   "source": [
    "# Use the file namd 'training data' to train the model\n",
    "\n",
    "data = pd.read_excel('Training data.xlsx')\n",
    "x_train = np.array(data.iloc[:,0:8])\n",
    "y_train = np.array(data.iloc[:,8]).reshape(-1,1)\n",
    "x_train"
   ]
  },
  {
   "cell_type": "code",
   "execution_count": 30,
   "id": "651e05da-4cc7-41d2-8955-2f0c2f40cb21",
   "metadata": {},
   "outputs": [
    {
     "data": {
      "text/plain": [
       "array([[0, 1, 2, ..., 6, 18, 118],\n",
       "       [1, 1, 2, ..., 7, 19, 107],\n",
       "       [1, 1, 3, ..., 5, 18, 108],\n",
       "       ...,\n",
       "       [1, 1, 2, ..., 5, 17, 123],\n",
       "       [1, 0, 1, ..., 8, 17, 104],\n",
       "       [1, 1, 1, ..., 6, 18, 128]], dtype=object)"
      ]
     },
     "execution_count": 30,
     "metadata": {},
     "output_type": "execute_result"
    }
   ],
   "source": [
    "def feature_changing(x_train):\n",
    "    for i in range(x_train.shape[1]):\n",
    "        if isinstance(x_train[0, i], str):  # Check if the column contains strings\n",
    "            le = LabelEncoder()\n",
    "            x_train[:, i] = le.fit_transform(x_train[:, i])\n",
    "\n",
    "    return x_train\n",
    "\n",
    "x_train = feature_changing(x_train)\n",
    "x_train"
   ]
  },
  {
   "cell_type": "code",
   "execution_count": 31,
   "id": "c31bd5d7-c473-4bfd-bf87-9c69dca54c9f",
   "metadata": {},
   "outputs": [],
   "source": [
    "def z_score(x_train):\n",
    "    x_mean = np.mean(x_train, axis = 0)\n",
    "    x_std = np.std(x_train, axis = 0)\n",
    "    x_train = (x_train - x_mean) / x_std\n",
    "\n",
    "    return x_train,x_std,x_mean"
   ]
  },
  {
   "cell_type": "code",
   "execution_count": 32,
   "id": "49aeb948-6479-4285-89c2-05aa84bc628b",
   "metadata": {},
   "outputs": [],
   "source": [
    "def cost(x_train,y_train,w,b):\n",
    "    y_pred = np.dot(x_train, w) + b\n",
    "\n",
    "    loss = np.mean((y_pred - y_train)**2)    \n",
    "\n",
    "    return loss"
   ]
  },
  {
   "cell_type": "code",
   "execution_count": 33,
   "id": "a36cfacf-34d4-40c7-a549-c5eda09cf8e7",
   "metadata": {},
   "outputs": [],
   "source": [
    "def gradient_descent(x_train,y_train,w,b):\n",
    "    learning_rate=0.01\n",
    "    # num_iterations=1000\n",
    "    m = x_train.shape[0]\n",
    "\n",
    "    # Compute predictions\n",
    "    predictions = np.dot(x_train, w) + b\n",
    "    \n",
    "    cost = (1 / (2 * m)) * np.sum((predictions - y_train) ** 2)\n",
    "    \n",
    "    dw = (1 / m) * np.dot(x_train.T, (predictions - y_train))\n",
    "    db = (1 / m) * np.sum(predictions - y_train)\n",
    "    \n",
    "    w = w - learning_rate * dw\n",
    "    b = b - learning_rate * db\n",
    "    \n",
    "    return w,b"
   ]
  },
  {
   "cell_type": "code",
   "execution_count": 34,
   "id": "f7b3dbd1-cfc7-443e-bb32-40ced84daded",
   "metadata": {},
   "outputs": [
    {
     "name": "stdout",
     "output_type": "stream",
     "text": [
      "Congratulations, your accuracy is 100.0%\n"
     ]
    }
   ],
   "source": [
    "x_train = x_train.astype(np.float64)\n",
    "x_train,x_std,x_mean = z_score(x_train)\n",
    "\n",
    "np.random.seed(2147483647)\n",
    "w = np.random.randn(x_train.shape[1],1)\n",
    "b = np.random.randn(1)\n",
    "\n",
    "old_cost = 0\n",
    "\n",
    "while abs(old_cost - cost(x_train,y_train,w,b))>0.00001:\n",
    "  old_cost = cost(x_train,y_train,w,b)\n",
    "  w,b = gradient_descent(x_train,y_train,w,b)\n",
    "\n",
    "x_predict = pd.read_excel('Test data.xlsx').iloc[:,:8].to_numpy()\n",
    "x_predict = feature_changing(x_predict)\n",
    "x_predict = (x_predict - x_mean)/x_std\n",
    "ans = pd.read_excel('Test data.xlsx').iloc[:,8].to_numpy()\n",
    "\n",
    "y_predict = np.dot(x_predict,w) + b\n",
    "\n",
    "accuracy = 0\n",
    "for dim in range(len(ans)):\n",
    "  if abs(y_predict[dim]-ans[dim])<0.5: # do not change the tolerance as you'll be checked on +- 0.5 error only\n",
    "    accuracy += 1\n",
    "accuracy = round(accuracy*100/200.0,2)\n",
    "ok = 'Congratulations' if accuracy>95 else 'Optimization required'\n",
    "print(f\"{ok}, your accuracy is {accuracy}%\")"
   ]
  },
  {
   "cell_type": "code",
   "execution_count": null,
   "id": "725b37e6-8c9e-4f95-bc5a-c7d54902be44",
   "metadata": {},
   "outputs": [],
   "source": []
  }
 ],
 "metadata": {
  "kernelspec": {
   "display_name": "Python 3 (ipykernel)",
   "language": "python",
   "name": "python3"
  },
  "language_info": {
   "codemirror_mode": {
    "name": "ipython",
    "version": 3
   },
   "file_extension": ".py",
   "mimetype": "text/x-python",
   "name": "python",
   "nbconvert_exporter": "python",
   "pygments_lexer": "ipython3",
   "version": "3.12.3"
  }
 },
 "nbformat": 4,
 "nbformat_minor": 5
}
